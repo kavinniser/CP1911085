{
 "cells": [
  {
   "cell_type": "code",
   "execution_count": null,
   "id": "eaecbc86",
   "metadata": {},
   "outputs": [],
   "source": [
    "# factorial function\n",
    "def Factorial(n):\n",
    "    fact=1\n",
    "    while n>0:\n",
    "        fact=fact*n\n",
    "        n-=1\n",
    "    return fact"
   ]
  },
  {
   "cell_type": "code",
   "execution_count": null,
   "id": "b6abe896",
   "metadata": {},
   "outputs": [],
   "source": [
    "# sine function\n",
    "# with argument of sine, and number of terms in its taylor expansion taken as input\n",
    "def Sin(x,n):\n",
    "    sum=0\n",
    "    for i in range(n):  # starting the index with i=1 \n",
    "        d=(-1)**(i) * x**(2*i+1)/FACTORIAL(2*i+1)  # taylor series terms\n",
    "        sum=sum+d\n",
    "    return sum"
   ]
  },
  {
   "cell_type": "code",
   "execution_count": null,
   "id": "07545369",
   "metadata": {},
   "outputs": [],
   "source": [
    "# exponential function\n",
    "# with argument of sine and number of terms in its taylor expansion taken as input\n",
    "def Exp(x,n):\n",
    "    sum=0\n",
    "    for i in range(0,n):\n",
    "        d=(-1)**i * x**i/FACTORIAL(i)  # taylor series terms\n",
    "        sum=sum+d\n",
    "    return sum"
   ]
  },
  {
   "cell_type": "code",
   "execution_count": null,
   "id": "bca199b7",
   "metadata": {},
   "outputs": [],
   "source": [
    "# function for summing first n natural numbers\n",
    "def sum_natural_numbers(n):\n",
    "    sum=0\n",
    "    for i in range(n+1):\n",
    "        sum=sum+i\n",
    "    print(\"The sum of first \" + str(n) + \" natural numbers is \" + str(sum))\n",
    "\n",
    "    \n",
    "\n",
    "# function for summing first n odd numbers\n",
    "def sum_odd_numbers(n):\n",
    "    sum=0\n",
    "    for i in range(n):\n",
    "        sum=sum + 2*i+1\n",
    "    print(\"The sum of first \" + str(n) + \" odd numbers is \" + str(sum))"
   ]
  },
  {
   "cell_type": "code",
   "execution_count": null,
   "id": "29ab9a6b",
   "metadata": {},
   "outputs": [],
   "source": [
    "import math\n",
    "\n",
    "\n",
    "# checking whether the input is greater than 0 or not\n",
    "\n",
    "def check_natural_number(n):\n",
    "    try : \n",
    "        int(n)\n",
    "        res = True\n",
    "    except :\n",
    "        res = False\n",
    "\n",
    "    if res==True and int(n)>0:\n",
    "        return(int(n))\n",
    "    else:\n",
    "        # printing error message\n",
    "        print(\"Invalid input. Please enter a natural number.\")\n",
    "        return 'F'\n",
    "\n",
    "\n",
    "\n",
    "# checking whether the input is float number or not\n",
    "def check_number(n):\n",
    "    try : \n",
    "        float(n)\n",
    "        res = True\n",
    "    except :\n",
    "        res = False\n",
    "\n",
    "    if res==True:\n",
    "        return(float(n))\n",
    "    else:\n",
    "        # printing error message\n",
    "        print(\"Invalid input. Please enter a number.\")\n",
    "        return 'F'"
   ]
  }
 ],
 "metadata": {
  "kernelspec": {
   "display_name": "Python 3",
   "language": "python",
   "name": "python3"
  },
  "language_info": {
   "codemirror_mode": {
    "name": "ipython",
    "version": 3
   },
   "file_extension": ".py",
   "mimetype": "text/x-python",
   "name": "python",
   "nbconvert_exporter": "python",
   "pygments_lexer": "ipython3",
   "version": "3.8.8"
  }
 },
 "nbformat": 4,
 "nbformat_minor": 5
}
