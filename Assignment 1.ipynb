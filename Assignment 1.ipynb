{
 "cells": [
  {
   "cell_type": "code",
   "execution_count": 36,
   "id": "77ed2470",
   "metadata": {},
   "outputs": [
    {
     "name": "stdout",
     "output_type": "stream",
     "text": [
      "Enter a natural number : 2\n",
      "The sum of first 2 natural numbers is 3\n"
     ]
    }
   ],
   "source": [
    "# 1(a): Summing first N natural numbers\n",
    "\n",
    "%run MyLib.ipynb # Running my library \n",
    "        \n",
    "n=input(\"Enter a natural number : \")   # taking input\n",
    "\n",
    "n=check_natural_number(n)  # Checking for validity\n",
    "\n",
    "if n!='F':\n",
    "    sum_natural_numbers(n)"
   ]
  },
  {
   "cell_type": "code",
   "execution_count": 38,
   "id": "144ae2e7",
   "metadata": {},
   "outputs": [
    {
     "name": "stdout",
     "output_type": "stream",
     "text": [
      "Enter a natural number : -1\n",
      "Invalid input. Please enter a natural number.\n"
     ]
    }
   ],
   "source": [
    "\n",
    "\n",
    "%run MyLib.ipynb # Running my library  \n",
    "                    \n",
    "n=input(\"Enter a natural number : \")   # taking input \n",
    "\n",
    "n=check_natural_number(n) # Checking for validity\n",
    "\n",
    "if n!='F':\n",
    "    sum_natural_numbers(n)"
   ]
  },
  {
   "cell_type": "code",
   "execution_count": 39,
   "id": "7b6538fd",
   "metadata": {},
   "outputs": [
    {
     "name": "stdout",
     "output_type": "stream",
     "text": [
      "Enter a natural number : 5\n",
      "The sum of first 5 natural numbers is 15\n"
     ]
    }
   ],
   "source": [
    "\n",
    "\n",
    "%run MyLib.ipynb # Running my library  \n",
    "                \n",
    "n=input(\"Enter a natural number : \")  # taking input\n",
    "\n",
    "n=check_natural_number(n)  # Checking for validity\n",
    "\n",
    "if n!='F':\n",
    "    sum_natural_numbers(n)"
   ]
  },
  {
   "cell_type": "code",
   "execution_count": 40,
   "id": "8b7dfb76",
   "metadata": {},
   "outputs": [
    {
     "name": "stdout",
     "output_type": "stream",
     "text": [
      "Enter a natural number : 9\n",
      "The sum of first 9 natural numbers is 45\n"
     ]
    }
   ],
   "source": [
    "\n",
    "\n",
    "%run MyLib.ipynb # Running my library \n",
    "                         \n",
    "n=input(\"Enter a natural number : \")  # taking input\n",
    "\n",
    "n=check_natural_number(n)  # Checking for validity\n",
    "\n",
    "if n!='F':\n",
    "    sum_natural_numbers(n)"
   ]
  },
  {
   "cell_type": "code",
   "execution_count": 41,
   "id": "f56162fb",
   "metadata": {
    "scrolled": true
   },
   "outputs": [
    {
     "name": "stdout",
     "output_type": "stream",
     "text": [
      "Enter a natural number : 0\n",
      "Invalid input. Please enter a natural number.\n"
     ]
    }
   ],
   "source": [
    "\n",
    "\n",
    "%run MyLib.ipynb # Running my library  \n",
    "                         \n",
    "n=input(\"Enter a natural number : \")  # taking input\n",
    "\n",
    "n=check_natural_number(n)  # Checking for validity\n",
    "\n",
    "if n!='F':\n",
    "    sum_natural_numbers(n)"
   ]
  },
  {
   "cell_type": "code",
   "execution_count": 37,
   "id": "4a83fd26",
   "metadata": {},
   "outputs": [
    {
     "name": "stdout",
     "output_type": "stream",
     "text": [
      "Enter a natural number : 2\n",
      "The sum of first 2 odd numbers is 4\n"
     ]
    }
   ],
   "source": [
    "# 1(b): Summing first N odd natural numbers\n",
    "\n",
    "%run MyLib.ipynb # Running my library  \n",
    " \n",
    "n=input(\"Enter a natural number : \") # taking input\n",
    "\n",
    "\n",
    "n=check_natural_number(n) # Checking for validity\n",
    "\n",
    "if n!='F':\n",
    "    sum_odd_numbers(n)"
   ]
  },
  {
   "cell_type": "code",
   "execution_count": 42,
   "id": "2e2d3dda",
   "metadata": {},
   "outputs": [
    {
     "name": "stdout",
     "output_type": "stream",
     "text": [
      "Enter a natural number : 4\n",
      "The sum of first 4 odd numbers is 16\n"
     ]
    }
   ],
   "source": [
    "\n",
    "%run MyLib.ipynb # Running my library  \n",
    " \n",
    "n=input(\"Enter a natural number : \") # taking input\n",
    "\n",
    "\n",
    "n=check_natural_number(n) # Checking for validity\n",
    "\n",
    "if n!='F':\n",
    "    sum_odd_numbers(n)"
   ]
  },
  {
   "cell_type": "code",
   "execution_count": 43,
   "id": "7f7e89d9",
   "metadata": {},
   "outputs": [
    {
     "name": "stdout",
     "output_type": "stream",
     "text": [
      "Enter a natural number : -3\n",
      "Invalid input. Please enter a natural number.\n"
     ]
    }
   ],
   "source": [
    "\n",
    "%run MyLib.ipynb # Running my library  \n",
    " \n",
    "n=input(\"Enter a natural number : \") # taking input\n",
    "\n",
    "\n",
    "n=check_natural_number(n) # Checking for validity\n",
    "\n",
    "if n!='F':\n",
    "    sum_odd_numbers(n)"
   ]
  },
  {
   "cell_type": "code",
   "execution_count": 44,
   "id": "98567082",
   "metadata": {},
   "outputs": [
    {
     "name": "stdout",
     "output_type": "stream",
     "text": [
      "Enter a natural number : 12\n",
      "The sum of first 12 odd numbers is 144\n"
     ]
    }
   ],
   "source": [
    "\n",
    "%run MyLib.ipynb # Running my library  \n",
    " \n",
    "n=input(\"Enter a natural number : \") # taking input\n",
    "\n",
    "\n",
    "n=check_natural_number(n) # Checking for validity\n",
    "\n",
    "if n!='F':\n",
    "    sum_odd_numbers(n)"
   ]
  },
  {
   "cell_type": "code",
   "execution_count": 45,
   "id": "c71de471",
   "metadata": {},
   "outputs": [
    {
     "name": "stdout",
     "output_type": "stream",
     "text": [
      "Enter a natural number : 0\n",
      "Invalid input. Please enter a natural number.\n"
     ]
    }
   ],
   "source": [
    "\n",
    "%run MyLib.ipynb # Running my library  \n",
    " \n",
    "n=input(\"Enter a natural number : \") # taking input\n",
    "\n",
    "\n",
    "n=check_natural_number(n) # Checking for validity\n",
    "\n",
    "if n!='F':\n",
    "    sum_odd_numbers(n)"
   ]
  },
  {
   "cell_type": "code",
   "execution_count": 4,
   "id": "5dec997a",
   "metadata": {},
   "outputs": [
    {
     "name": "stdout",
     "output_type": "stream",
     "text": [
      "3\n",
      "THE FACTORIAL OF 3 IS 6\n"
     ]
    }
   ],
   "source": [
    "num = int(input())\n",
    "\n",
    "factorial = 1\n",
    "\n",
    "if num < 0:   #if num is negative\n",
    "   print(\"Does not exist\")\n",
    "\n",
    "elif num == 0:   #if num is zero\n",
    "   print(\"The factorial of 0 is 1\")\n",
    "\n",
    "else:   #if num is positive\n",
    "   for i in range(1,num + 1):   #iterate the given num using for loop\n",
    "       factorial = factorial*i    # multiply with the previous result\n",
    "   print(\"THE FACTORIAL OF\",num,\"IS\",factorial) #print"
   ]
  },
  {
   "cell_type": "code",
   "execution_count": 5,
   "id": "7358fedb",
   "metadata": {},
   "outputs": [
    {
     "name": "stdout",
     "output_type": "stream",
     "text": [
      "-4\n",
      "Does not exist\n"
     ]
    }
   ],
   "source": [
    "num = int(input())\n",
    "\n",
    "factorial = 1\n",
    "\n",
    "if num < 0:   #if num is negative\n",
    "   print(\"Does not exist\")\n",
    "\n",
    "elif num == 0:   #if num is zero\n",
    "   print(\"The factorial of 0 is 1\")\n",
    "\n",
    "else:   #if num is positive\n",
    "   for i in range(1,num + 1):   #iterate the given num using for loop\n",
    "       factorial = factorial*i    # multiply with the previous result\n",
    "   print(\"THE FACTORIAL OF\",num,\"IS\",factorial) #print"
   ]
  },
  {
   "cell_type": "code",
   "execution_count": 6,
   "id": "5a5ee5d9",
   "metadata": {},
   "outputs": [
    {
     "name": "stdout",
     "output_type": "stream",
     "text": [
      "8\n",
      "THE FACTORIAL OF 8 IS 40320\n"
     ]
    }
   ],
   "source": [
    "\n",
    "num = int(input())\n",
    "\n",
    "factorial = 1\n",
    "\n",
    "if num < 0:   #if num is negative\n",
    "   print(\"Does not exist\")\n",
    "\n",
    "elif num == 0:   #if num is zero\n",
    "   print(\"The factorial of 0 is 1\")\n",
    "\n",
    "else:   #if num is positive\n",
    "   for i in range(1,num + 1):   #iterate the given num using for loop\n",
    "       factorial = factorial*i    # multiply with the previous result\n",
    "   print(\"THE FACTORIAL OF\",num,\"IS\",factorial) #print"
   ]
  },
  {
   "cell_type": "code",
   "execution_count": 7,
   "id": "4b39922b",
   "metadata": {
    "scrolled": true
   },
   "outputs": [
    {
     "name": "stdout",
     "output_type": "stream",
     "text": [
      "-4\n",
      "Does not exist\n"
     ]
    }
   ],
   "source": [
    "\n",
    "num = int(input())\n",
    "\n",
    "factorial = 1\n",
    "\n",
    "if num < 0:   #if num is negative\n",
    "   print(\"Does not exist\")\n",
    "\n",
    "elif num == 0:   #if num is zero\n",
    "   print(\"The factorial of 0 is 1\")\n",
    "\n",
    "else:   #if num is positive\n",
    "   for i in range(1,num + 1):   #iterate the given num using for loop\n",
    "       factorial = factorial*i    # multiply with the previous result\n",
    "   print(\"THE FACTORIAL OF\",num,\"IS\",factorial) #print"
   ]
  },
  {
   "cell_type": "code",
   "execution_count": 8,
   "id": "c9854119",
   "metadata": {},
   "outputs": [
    {
     "name": "stdout",
     "output_type": "stream",
     "text": [
      "0\n",
      "The factorial of 0 is 1\n"
     ]
    }
   ],
   "source": [
    "num = int(input())\n",
    "\n",
    "factorial = 1\n",
    "\n",
    "if num < 0:   #if num is negative\n",
    "   print(\"Does not exist\")\n",
    "\n",
    "elif num == 0:   #if num is zero\n",
    "   print(\"The factorial of 0 is 1\")\n",
    "\n",
    "else:   #if num is positive\n",
    "   for i in range(1,num + 1):   #iterate the given num using for loop\n",
    "       factorial = factorial*i    # multiply with the previous result\n",
    "   print(\"THE FACTORIAL OF\",num,\"IS\",factorial) #print"
   ]
  },
  {
   "cell_type": "code",
   "execution_count": 13,
   "id": "6e80329d",
   "metadata": {},
   "outputs": [
    {
     "name": "stdout",
     "output_type": "stream",
     "text": [
      "Please Enter the Total Numbers in this A.P Series: : 2\n",
      "Please Enter First Number of an A.P Series: : 6\n",
      "The sum of Arithmetic Progression starting with 6.0 having 2 numbers is :  13.5\n"
     ]
    }
   ],
   "source": [
    "# sum of N terms of an A.P starting with 'a'\n",
    "def sumOfAP( a, d,n) :  \n",
    "    sum = 0   # setting initial sum to zero\n",
    "    i = 0 # introducing the variable\n",
    "    if n > 0:\n",
    "        while i < n :\n",
    "            sum = sum + a  # adding sum by the common difference\n",
    "            a = a + d    # increasing the common difference each time by a sum of 'd' in the loop\n",
    "            i = i + 1    # increasing the variable\n",
    "        return sum\n",
    "    elif n <= 0:\n",
    "        print(\"Enter a positive integer for 'n' \")\n",
    "        \n",
    "     \n",
    "# taking inputs\n",
    "n = int(input(\"Please Enter the Total Numbers in this A.P Series: : \"))\n",
    "a = float(input(\"Please Enter First Number of an A.P Series: : \"))\n",
    "d = 1.5\n",
    "print(\"The sum of Arithmetic Progression starting with \" + str(a) + \" having \"  + str(n) +  \" numbers is : \", end = \" \")\n",
    "print (sumOfAP(a, d, n))      # printing the output\n"
   ]
  },
  {
   "cell_type": "code",
   "execution_count": 14,
   "id": "963978ce",
   "metadata": {},
   "outputs": [
    {
     "name": "stdout",
     "output_type": "stream",
     "text": [
      "Please Enter the Total Numbers in this A.P Series: : -2\n",
      "Please Enter First Number of an A.P Series: : 4\n",
      "The sum of Arithmetic Progression starting with 4.0 having -2 numbers is :  Enter a positive integer for 'n' \n",
      "None\n"
     ]
    }
   ],
   "source": [
    "# sum of N terms of an A.P starting with 'a'\n",
    "def sumOfAP( a, d,n) :  \n",
    "    sum = 0   # setting initial sum to zero\n",
    "    i = 0 # introducing the variable\n",
    "    if n > 0:\n",
    "        while i < n :\n",
    "            sum = sum + a  # adding sum by the common difference\n",
    "            a = a + d    # increasing the common difference each time by a sum of 'd' in the loop\n",
    "            i = i + 1    # increasing the variable\n",
    "        return sum\n",
    "    elif n <= 0:\n",
    "        print(\"Enter a positive integer for 'n' \")\n",
    "        \n",
    "     \n",
    "# taking inputs\n",
    "n = int(input(\"Please Enter the Total Numbers in this A.P Series: : \"))\n",
    "a = float(input(\"Please Enter First Number of an A.P Series: : \"))\n",
    "d = 1.5\n",
    "print(\"The sum of Arithmetic Progression starting with \" + str(a) + \" having \"  + str(n) +  \" numbers is : \", end = \" \")\n",
    "print (sumOfAP(a, d, n))      # printing the output"
   ]
  },
  {
   "cell_type": "code",
   "execution_count": 15,
   "id": "1af24c6c",
   "metadata": {},
   "outputs": [
    {
     "name": "stdout",
     "output_type": "stream",
     "text": [
      "Please Enter the Total Numbers in this A.P Series: : 5\n",
      "Please Enter First Number of an A.P Series: : 3\n",
      "The sum of Arithmetic Progression starting with 3.0 having 5 numbers is :  30.0\n"
     ]
    }
   ],
   "source": [
    "# sum of N terms of an A.P starting with 'a'\n",
    "def sumOfAP( a, d,n) :  \n",
    "    sum = 0   # setting initial sum to zero\n",
    "    i = 0 # introducing the variable\n",
    "    if n > 0:\n",
    "        while i < n :\n",
    "            sum = sum + a  # adding sum by the common difference\n",
    "            a = a + d    # increasing the common difference each time by a sum of 'd' in the loop\n",
    "            i = i + 1    # increasing the variable\n",
    "        return sum\n",
    "    elif n <= 0:\n",
    "        print(\"Enter a positive integer for 'n' \")\n",
    "        \n",
    "     \n",
    "# taking inputs\n",
    "n = int(input(\"Please Enter the Total Numbers in this A.P Series: : \"))\n",
    "a = float(input(\"Please Enter First Number of an A.P Series: : \"))\n",
    "d = 1.5\n",
    "print(\"The sum of Arithmetic Progression starting with \" + str(a) + \" having \"  + str(n) +  \" numbers is : \", end = \" \")\n",
    "print (sumOfAP(a, d, n))      # printing the output"
   ]
  },
  {
   "cell_type": "code",
   "execution_count": 16,
   "id": "58f4e97a",
   "metadata": {},
   "outputs": [
    {
     "name": "stdout",
     "output_type": "stream",
     "text": [
      "Please Enter the Total Numbers in this A.P Series: : 4\n",
      "Please Enter First Number of an A.P Series: : 0.4\n",
      "The sum of Arithmetic Progression starting with 0.4 having 4 numbers is :  10.6\n"
     ]
    }
   ],
   "source": [
    "# sum of N terms of an A.P starting with 'a'\n",
    "def sumOfAP( a, d,n) :  \n",
    "    sum = 0   # setting initial sum to zero\n",
    "    i = 0 # introducing the variable\n",
    "    if n > 0:\n",
    "        while i < n :\n",
    "            sum = sum + a  # adding sum by the common difference\n",
    "            a = a + d    # increasing the common difference each time by a sum of 'd' in the loop\n",
    "            i = i + 1    # increasing the variable\n",
    "        return sum\n",
    "    elif n <= 0:\n",
    "        print(\"Enter a positive integer for 'n' \")\n",
    "        \n",
    "     \n",
    "# taking inputs\n",
    "n = int(input(\"Please Enter the Total Numbers in this A.P Series: : \"))\n",
    "a = float(input(\"Please Enter First Number of an A.P Series: : \"))\n",
    "d = 1.5\n",
    "print(\"The sum of Arithmetic Progression starting with \" + str(a) + \" having \"  + str(n) +  \" numbers is : \", end = \" \")\n",
    "print (sumOfAP(a, d, n))      # printing the output"
   ]
  },
  {
   "cell_type": "code",
   "execution_count": 19,
   "id": "fc1411c7",
   "metadata": {},
   "outputs": [
    {
     "name": "stdout",
     "output_type": "stream",
     "text": [
      "Please Enter the Total Numbers in this A.P Series: : 3\n",
      "Please Enter First Number of an A.P Series: : 8\n",
      "The sum of Arithmetic Progression starting with 8.0 having 3 numbers is :  28.5\n"
     ]
    }
   ],
   "source": [
    "# sum of N terms of an A.P starting with 'a'\n",
    "def sumOfAP( a, d,n) :  \n",
    "    sum = 0   # setting initial sum to zero\n",
    "    i = 0 # introducing the variable\n",
    "    if n > 0:\n",
    "        while i < n :\n",
    "            sum = sum + a  # adding sum by the common difference\n",
    "            a = a + d    # increasing the common difference each time by a sum of 'd' in the loop\n",
    "            i = i + 1    # increasing the variable\n",
    "        return sum\n",
    "    elif n <= 0:\n",
    "        print(\"Enter a positive integer for 'n' \")\n",
    "        \n",
    "     \n",
    "# taking inputs\n",
    "n = int(input(\"Please Enter the Total Numbers in this A.P Series: : \"))\n",
    "a = float(input(\"Please Enter First Number of an A.P Series: : \"))\n",
    "d = 1.5\n",
    "print(\"The sum of Arithmetic Progression starting with \" + str(a) + \" having \"  + str(n) +  \" numbers is : \", end = \" \")\n",
    "print (sumOfAP(a, d, n))      # printing the output"
   ]
  },
  {
   "cell_type": "code",
   "execution_count": 2,
   "id": "7e06ab7e",
   "metadata": {},
   "outputs": [
    {
     "name": "stdout",
     "output_type": "stream",
     "text": [
      "Please Enter the Total Numbers in this G.P Series: : 2\n",
      "Please Enter First Number of an G.P Series: : 6\n",
      "The sum of Geometric Progression starting with 6.0 having 2 numbers is :  9.0\n"
     ]
    }
   ],
   "source": [
    "# sum of N terms of an G.P starting with 'a'\n",
    "def sumOfGP( a, r,n) : \n",
    "    if n > 0:\n",
    "        sum = 0   # setting initial sum to zero\n",
    "        i = 0     # introducing the variable\n",
    "        while i < n :\n",
    "            sum = sum + a  # adding sum by the common ratio\n",
    "            a = r*a    # increasing the common ratio each time by a muliple of 'r' in the loop\n",
    "            i = i + 1    # increasing the variable\n",
    "        return sum\n",
    "        \n",
    "    \n",
    "    elif n <= 0:\n",
    "        print(\"Enter a positive integer for 'n' \")\n",
    "     \n",
    "        \n",
    "# taking inputs\n",
    "n = int(input(\"Please Enter the Total Numbers in this G.P Series: : \"))\n",
    "a = float(input(\"Please Enter First Number of an G.P Series: : \"))\n",
    "r = 0.5\n",
    "print(\"The sum of Geometric Progression starting with \" + str(a) + \" having \"  + str(n) +  \" numbers is : \", end = \" \")\n",
    "print (sumOfGP(a, r, n))      # printing the output"
   ]
  },
  {
   "cell_type": "code",
   "execution_count": 18,
   "id": "3791826a",
   "metadata": {},
   "outputs": [
    {
     "name": "stdout",
     "output_type": "stream",
     "text": [
      "Please Enter the Total Numbers in this G.P Series: : 4\n",
      "Please Enter First Number of an G.P Series: : 6\n",
      "The sum of Geometric Progression starting with 6.0 having 4 numbers is :  11.25\n"
     ]
    }
   ],
   "source": [
    "# sum of N terms of an G.P starting with 'a'\n",
    "def sumOfGP( a, r,n) : \n",
    "    if n > 0:\n",
    "        sum = 0   # setting initial sum to zero\n",
    "        i = 0     # introducing the variable\n",
    "        while i < n :\n",
    "            sum = sum + a  # adding sum by the common ratio\n",
    "            a = r*a    # increasing the common ratio each time by a muliple of 'r' in the loop\n",
    "            i = i + 1    # increasing the variable\n",
    "        return sum\n",
    "        \n",
    "    \n",
    "    elif n <= 0:\n",
    "        print(\"Enter a positive integer for 'n' \")\n",
    "     \n",
    "        \n",
    "# taking inputs\n",
    "n = int(input(\"Please Enter the Total Numbers in this G.P Series: : \"))\n",
    "a = float(input(\"Please Enter First Number of an G.P Series: : \"))\n",
    "r = 0.5\n",
    "print(\"The sum of Geometric Progression starting with \" + str(a) + \" having \"  + str(n) +  \" numbers is : \", end = \" \")\n",
    "print (sumOfGP(a, r, n))      # printing the output"
   ]
  },
  {
   "cell_type": "code",
   "execution_count": null,
   "id": "f94e44c8",
   "metadata": {},
   "outputs": [],
   "source": [
    "# sum of N terms of an G.P starting with 'a'\n",
    "def sumOfGP( a, r,n) : \n",
    "    if n > 0:\n",
    "        sum = 0   # setting initial sum to zero\n",
    "        i = 0     # introducing the variable\n",
    "        while i < n :\n",
    "            sum = sum + a  # adding sum by the common ratio\n",
    "            a = r*a    # increasing the common ratio each time by a muliple of 'r' in the loop\n",
    "            i = i + 1    # increasing the variable\n",
    "        return sum\n",
    "        \n",
    "    \n",
    "    elif n <= 0:\n",
    "        print(\"Enter a positive integer for 'n' \")\n",
    "     \n",
    "        \n",
    "# taking inputs\n",
    "n = int(input(\"Please Enter the Total Numbers in this G.P Series: : \"))\n",
    "a = float(input(\"Please Enter First Number of an G.P Series: : \"))\n",
    "r = 0.5\n",
    "print(\"The sum of Geometric Progression starting with \" + str(a) + \" having \"  + str(n) +  \" numbers is : \", end = \" \")\n",
    "print (sumOfGP(a, r, n))      # printing the output"
   ]
  },
  {
   "cell_type": "code",
   "execution_count": 20,
   "id": "3d988ae6",
   "metadata": {},
   "outputs": [
    {
     "name": "stdout",
     "output_type": "stream",
     "text": [
      "Please Enter the Total Numbers in this G.P Series: : 4\n",
      "Please Enter First Number of an G.P Series: : -1\n",
      "The sum of Geometric Progression starting with -1.0 having 4 numbers is :  -1.875\n"
     ]
    }
   ],
   "source": [
    "# sum of N terms of an G.P starting with 'a'\n",
    "def sumOfGP( a, r,n) : \n",
    "    if n > 0:\n",
    "        sum = 0   # setting initial sum to zero\n",
    "        i = 0     # introducing the variable\n",
    "        while i < n :\n",
    "            sum = sum + a  # adding sum by the common ratio\n",
    "            a = r*a    # increasing the common ratio each time by a muliple of 'r' in the loop\n",
    "            i = i + 1    # increasing the variable\n",
    "        return sum\n",
    "        \n",
    "    \n",
    "    elif n <= 0:\n",
    "        print(\"Enter a positive integer for 'n' \")\n",
    "     \n",
    "        \n",
    "# taking inputs\n",
    "n = int(input(\"Please Enter the Total Numbers in this G.P Series: : \"))\n",
    "a = float(input(\"Please Enter First Number of an G.P Series: : \"))\n",
    "r = 0.5\n",
    "print(\"The sum of Geometric Progression starting with \" + str(a) + \" having \"  + str(n) +  \" numbers is : \", end = \" \")\n",
    "print (sumOfGP(a, r, n))      # printing the output"
   ]
  },
  {
   "cell_type": "code",
   "execution_count": 21,
   "id": "e8f56320",
   "metadata": {},
   "outputs": [
    {
     "name": "stdout",
     "output_type": "stream",
     "text": [
      "Please Enter the Total Numbers in this G.P Series: : -2\n",
      "Please Enter First Number of an G.P Series: : 0.4\n",
      "The sum of Geometric Progression starting with 0.4 having -2 numbers is :  Enter a positive integer for 'n' \n",
      "None\n"
     ]
    }
   ],
   "source": [
    "# sum of N terms of an G.P starting with 'a'\n",
    "def sumOfGP( a, r,n) : \n",
    "    if n > 0:\n",
    "        sum = 0   # setting initial sum to zero\n",
    "        i = 0     # introducing the variable\n",
    "        while i < n :\n",
    "            sum = sum + a  # adding sum by the common ratio\n",
    "            a = r*a    # increasing the common ratio each time by a muliple of 'r' in the loop\n",
    "            i = i + 1    # increasing the variable\n",
    "        return sum\n",
    "        \n",
    "    \n",
    "    elif n <= 0:\n",
    "        print(\"Enter a positive integer for 'n' \")\n",
    "     \n",
    "        \n",
    "# taking inputs\n",
    "n = int(input(\"Please Enter the Total Numbers in this G.P Series: : \"))\n",
    "a = float(input(\"Please Enter First Number of an G.P Series: : \"))\n",
    "r = 0.5\n",
    "print(\"The sum of Geometric Progression starting with \" + str(a) + \" having \"  + str(n) +  \" numbers is : \", end = \" \")\n",
    "print (sumOfGP(a, r, n))      # printing the output"
   ]
  },
  {
   "cell_type": "code",
   "execution_count": 5,
   "id": "5af8807a",
   "metadata": {},
   "outputs": [
    {
     "name": "stdout",
     "output_type": "stream",
     "text": [
      "Please Enter the Total Numbers in this H.P Series: : 3\n",
      "Please Enter First Number of an H.P Series: : 1\n",
      "The sum of Geometric Progression starting with 1 having 3 numbers is :  1.65\n"
     ]
    }
   ],
   "source": [
    "\n",
    "# sum of N terms of an H.P starting with 'a'\n",
    "def sumOfHP( a, d,n) : \n",
    "    if n > 0:\n",
    "        sum = 0  # setting initial sum to zero\n",
    "        i = 0     # introducing the variable\n",
    "        while i < n :\n",
    "            x = 1/a   #inverting\n",
    "            sum = sum + x  # adding sum by the common difference\n",
    "            a = a + d # increasing the common difference each time by a sum of 'd' in the denominator\n",
    "            i = i + 1    # increasing the variable\n",
    "        return sum\n",
    "        \n",
    "    \n",
    "    elif n <= 0:\n",
    "        print(\"Enter a positive integer for 'n' \")\n",
    "     \n",
    "        \n",
    "# taking inputs\n",
    "n = int(input(\"Please Enter the Total Numbers in this H.P Series: : \"))\n",
    "a = int(input(\"Please Enter First Number of an H.P Series: : \"))\n",
    "d = 1.5\n",
    "print(\"The sum of Geometric Progression starting with \" + str(a) + \" having \"  + str(n) +  \" numbers is : \", end = \" \")\n",
    "print (sumOfHP(a, d, n))      # printing the output\n"
   ]
  },
  {
   "cell_type": "code",
   "execution_count": 22,
   "id": "72c07772",
   "metadata": {},
   "outputs": [
    {
     "name": "stdout",
     "output_type": "stream",
     "text": [
      "Please Enter the Total Numbers in this H.P Series: : 3\n",
      "Please Enter First Number of an H.P Series: : 5\n",
      "The sum of Geometric Progression starting with 5 having 3 numbers is :  0.47884615384615387\n"
     ]
    }
   ],
   "source": [
    "# sum of N terms of an H.P starting with 'a'\n",
    "def sumOfHP( a, d,n) : \n",
    "    if n > 0:\n",
    "        sum = 0  # setting initial sum to zero\n",
    "        i = 0     # introducing the variable\n",
    "        while i < n :\n",
    "            x = 1/a   #inverting\n",
    "            sum = sum + x  # adding sum by the common difference\n",
    "            a = a + d # increasing the common difference each time by a sum of 'd' in the denominator\n",
    "            i = i + 1    # increasing the variable\n",
    "        return sum\n",
    "        \n",
    "    \n",
    "    elif n <= 0:\n",
    "        print(\"Enter a positive integer for 'n' \")\n",
    "     \n",
    "        \n",
    "# taking inputs\n",
    "n = int(input(\"Please Enter the Total Numbers in this H.P Series: : \"))\n",
    "a = int(input(\"Please Enter First Number of an H.P Series: : \"))\n",
    "d = 1.5\n",
    "print(\"The sum of Geometric Progression starting with \" + str(a) + \" having \"  + str(n) +  \" numbers is : \", end = \" \")\n",
    "print (sumOfHP(a, d, n))      # printing the output"
   ]
  },
  {
   "cell_type": "code",
   "execution_count": 25,
   "id": "67e0c8d5",
   "metadata": {},
   "outputs": [
    {
     "name": "stdout",
     "output_type": "stream",
     "text": [
      "Please Enter the Total Numbers in this H.P Series: : 3\n",
      "Please Enter First Number of an H.P Series: : 5\n",
      "The sum of Geometric Progression starting with 5 having 3 numbers is :  0.47884615384615387\n"
     ]
    }
   ],
   "source": [
    "# sum of N terms of an H.P starting with 'a'\n",
    "def sumOfHP( a, d,n) : \n",
    "    if n > 0:\n",
    "        sum = 0  # setting initial sum to zero\n",
    "        i = 0     # introducing the variable\n",
    "        while i < n :\n",
    "            x = 1/a   #inverting\n",
    "            sum = sum + x  # adding sum by the common difference\n",
    "            a = a + d # increasing the common difference each time by a sum of 'd' in the denominator\n",
    "            i = i + 1    # increasing the variable\n",
    "            \n",
    "        return sum\n",
    "        \n",
    "    \n",
    "    elif n <= 0:\n",
    "        print(\"Enter a positive integer for 'n' \")\n",
    "     \n",
    "        \n",
    "# taking inputs\n",
    "n = int(input(\"Please Enter the Total Numbers in this H.P Series: : \"))\n",
    "a = int(input(\"Please Enter First Number of an H.P Series: : \"))\n",
    "d = 1.5\n",
    "print(\"The sum of Geometric Progression starting with \" + str(a) + \" having \"  + str(n) +  \" numbers is : \", end = \" \")\n",
    "print (sumOfHP(a, d, n))      # printing the output"
   ]
  },
  {
   "cell_type": "code",
   "execution_count": 26,
   "id": "9aaecaea",
   "metadata": {},
   "outputs": [
    {
     "name": "stdout",
     "output_type": "stream",
     "text": [
      "Please Enter the Total Numbers in this H.P Series: : -1\n",
      "Please Enter First Number of an H.P Series: : 4\n",
      "The sum of Geometric Progression starting with 4 having -1 numbers is :  Enter a positive integer for 'n' \n",
      "None\n"
     ]
    }
   ],
   "source": [
    "# sum of N terms of an H.P starting with 'a'\n",
    "def sumOfHP( a, d,n) : \n",
    "    if n > 0:\n",
    "        sum = 0  # setting initial sum to zero\n",
    "        i = 0     # introducing the variable\n",
    "        while i < n :\n",
    "            x = 1/a   #inverting\n",
    "            sum = sum + x  # adding sum by the common difference\n",
    "            a = a + d # increasing the common difference each time by a sum of 'd' in the denominator\n",
    "            i = i + 1    # increasing the variable\n",
    "        return sum\n",
    "        \n",
    "    \n",
    "    elif n <= 0:\n",
    "        print(\"Enter a positive integer for 'n' \")\n",
    "     \n",
    "        \n",
    "# taking inputs\n",
    "n = int(input(\"Please Enter the Total Numbers in this H.P Series: : \"))\n",
    "a = int(input(\"Please Enter First Number of an H.P Series: : \"))\n",
    "d = 1.5\n",
    "print(\"The sum of Geometric Progression starting with \" + str(a) + \" having \"  + str(n) +  \" numbers is : \", end = \" \")\n",
    "print (sumOfHP(a, d, n))      # printing the output"
   ]
  },
  {
   "cell_type": "code",
   "execution_count": 27,
   "id": "c2c2f86e",
   "metadata": {},
   "outputs": [
    {
     "name": "stdout",
     "output_type": "stream",
     "text": [
      "Please Enter the Total Numbers in this H.P Series: : 4\n",
      "Please Enter First Number of an H.P Series: : -1\n",
      "The sum of Geometric Progression starting with -1 having 4 numbers is :  1.7857142857142856\n"
     ]
    }
   ],
   "source": [
    "# sum of N terms of an H.P starting with 'a'\n",
    "def sumOfHP( a, d,n) : \n",
    "    if n > 0:\n",
    "        sum = 0  # setting initial sum to zero\n",
    "        i = 0     # introducing the variable\n",
    "        while i < n :\n",
    "            x = 1/a   #inverting\n",
    "            sum = sum + x  # adding sum by the common difference\n",
    "            a = a + d # increasing the common difference each time by a sum of 'd' in the denominator\n",
    "            i = i + 1    # increasing the variable\n",
    "        return sum\n",
    "        \n",
    "    \n",
    "    elif n <= 0:\n",
    "        print(\"Enter a positive integer for 'n' \")\n",
    "     \n",
    "        \n",
    "# taking inputs\n",
    "n = int(input(\"Please Enter the Total Numbers in this H.P Series: : \"))\n",
    "a = int(input(\"Please Enter First Number of an H.P Series: : \"))\n",
    "d = 1.5\n",
    "print(\"The sum of Geometric Progression starting with \" + str(a) + \" having \"  + str(n) +  \" numbers is : \", end = \" \")\n",
    "print (sumOfHP(a, d, n))      # printing the output"
   ]
  },
  {
   "cell_type": "code",
   "execution_count": 75,
   "id": "712d4908",
   "metadata": {},
   "outputs": [
    {
     "name": "stdout",
     "output_type": "stream",
     "text": [
      "Enter argument: 1\n",
      "\n",
      "exp(-1.0) = 0.3678791887125221\n"
     ]
    }
   ],
   "source": [
    "# 4(a): Inverse of exponential function\n",
    "\n",
    "%run MyLib.ipynb # Running my library  \n",
    "                        \n",
    "x=input(\"Enter argument: \") # taking input\n",
    "\n",
    "x=check_number(x) # Checking for validity\n",
    "\n",
    "if int(x)!=False:\n",
    "    eps=10**-6\n",
    "    i=1\n",
    "    \n",
    "    # the loop will run till the value doesn't match with the actual value\n",
    "    # of exp(-x) and stops as it matches till the desired decimal places\n",
    "    while abs(Exp(x,i)-math.exp(-x))>eps:\n",
    "        i+=1\n",
    "    print(\"\\nexp(-\" + str(x) + \") = \" + str(Exp(x,i)))\n",
    "    \n"
   ]
  },
  {
   "cell_type": "code",
   "execution_count": 76,
   "id": "6faa16cc",
   "metadata": {},
   "outputs": [
    {
     "name": "stdout",
     "output_type": "stream",
     "text": [
      "Enter argument: -1\n",
      "\n",
      "exp(--1.0) = 2.7182815255731922\n"
     ]
    }
   ],
   "source": [
    "\n",
    "\n",
    "%run MyLib.ipynb # Running my library  \n",
    "                        \n",
    "x=input(\"Enter argument: \") # taking input\n",
    "\n",
    "x=check_number(x) # Checking for validity\n",
    "\n",
    "if int(x)!=False:\n",
    "    eps=10**-6\n",
    "    i=1\n",
    "    \n",
    "    # the loop will run till the value doesn't match with the actual value\n",
    "    # of exp(-x) and stops as it matches till the desired decimal places\n",
    "    while abs(Exp(x,i)-math.exp(-x))>eps:\n",
    "        i+=1\n",
    "    print(\"\\nexp(-\" + str(x) + \") = \" + str(Exp(x,i)))\n",
    "    \n"
   ]
  },
  {
   "cell_type": "code",
   "execution_count": 77,
   "id": "23bccd7d",
   "metadata": {},
   "outputs": [
    {
     "name": "stdout",
     "output_type": "stream",
     "text": [
      "Enter argument: -2\n",
      "\n",
      "exp(--2.0) = 7.389055882389215\n"
     ]
    }
   ],
   "source": [
    "\n",
    "\n",
    "%run MyLib.ipynb # Running my library  \n",
    "                        \n",
    "x=input(\"Enter argument: \") # taking input\n",
    "\n",
    "x=check_number(x) # Checking for validity\n",
    "\n",
    "if int(x)!=False:\n",
    "    eps=10**-6\n",
    "    i=1\n",
    "    \n",
    "    # the loop will run till the value doesn't match with the actual value\n",
    "    # of exp(-x) and stops as it matches till the desired decimal places\n",
    "    while abs(Exp(x,i)-math.exp(-x))>eps:\n",
    "        i+=1\n",
    "    print(\"\\nexp(-\" + str(x) + \") = \" + str(Exp(x,i)))\n",
    "    \n"
   ]
  },
  {
   "cell_type": "code",
   "execution_count": 78,
   "id": "8949fd53",
   "metadata": {},
   "outputs": [
    {
     "name": "stdout",
     "output_type": "stream",
     "text": [
      "Enter argument: -4\n",
      "\n",
      "exp(--4.0) = 54.59814947621461\n"
     ]
    }
   ],
   "source": [
    "\n",
    "\n",
    "%run MyLib.ipynb # Running my library  \n",
    "                        \n",
    "x=input(\"Enter argument: \") # taking input\n",
    "\n",
    "x=check_number(x) # Checking for validity\n",
    "\n",
    "if int(x)!=False:\n",
    "    eps=10**-6\n",
    "    i=1\n",
    "    \n",
    "    # the loop will run till the value doesn't match with the actual value\n",
    "    # of exp(-x) and stops as it matches till the desired decimal places\n",
    "    while abs(EXP(x,i)-math.exp(-x))>eps:\n",
    "        i+=1\n",
    "    print(\"\\nexp(-\" + str(x) + \") = \" + str(Exp(x,i)))\n",
    "   \n"
   ]
  },
  {
   "cell_type": "code",
   "execution_count": 79,
   "id": "f62d8f11",
   "metadata": {},
   "outputs": [
    {
     "name": "stdout",
     "output_type": "stream",
     "text": [
      "Enter argument: 4\n",
      "\n",
      "exp(-4.0) = 0.018315259717021463\n"
     ]
    }
   ],
   "source": [
    "\n",
    "\n",
    "%run MyLib.ipynb # Running my library  \n",
    "                        \n",
    "x=input(\"Enter argument: \") # taking input\n",
    "\n",
    "x=check_number(x) # Checking for validity\n",
    "\n",
    "if int(x)!=False:\n",
    "    eps=10**-6\n",
    "    i=1\n",
    "    \n",
    "    # the loop will run till the value doesn't match with the actual value\n",
    "    # of exp(-x) and stops as it matches till the desired decimal places\n",
    "    while abs(Exp(x,i)-math.exp(-x))>eps:\n",
    "        i+=1\n",
    "    print(\"\\nexp(-\" + str(x) + \") = \" + str(EXP(x,i)))\n",
    "    \n"
   ]
  },
  {
   "cell_type": "code",
   "execution_count": 2,
   "id": "c9afa353",
   "metadata": {},
   "outputs": [
    {
     "data": {
      "image/png": "[encoded data removed]",
      "text/plain": [
       "<Figure size 648x432 with 1 Axes>"
      ]
     },
     "metadata": {
      "needs_background": "light"
     },
     "output_type": "display_data"
    }
   ],
   "source": [
    "# 4(a): Plotting error of Inverse exponential function versus number of iterations in the taylor series\n",
    "\n",
    "%run MyLib.ipynb # Running my library \n",
    "                        \n",
    "\n",
    "import math\n",
    "import matplotlib.pyplot as plt\n",
    "plt.figure(figsize=(9,6))\n",
    "\n",
    "e = 10**-6 # decimal places till which accuracy is needed. 2 decimal places are increased to reduce round off error\n",
    "\n",
    "color = ['b-o', 'r-o', 'g-o', 'k-o', 'y-o'] # array of colors for plotting\n",
    "\n",
    "argument = [1, 1.5, 2, 3.2, 5.3] # array of arguments given for comparison\n",
    "\n",
    "for j in range(len(argument)):\n",
    "    # creating arrays to store indices and errors\n",
    "    index = [] \n",
    "    error = []\n",
    "    \n",
    "    x = argument[j] # argument if sine function\n",
    "    i = 1\n",
    "    \n",
    "    # the loop will run till the value doesn't match with\n",
    "    # the actual value of sine and stops as it matches\n",
    "    # till the desired decimal places\n",
    "    while abs(Exp(x,i)-math.exp(-x)) > e:\n",
    "        index.append(i)\n",
    "        error.append(abs(Exp(x,i)-math.exp(-x)))\n",
    "        i+=1\n",
    "    plt.plot(index, error, color[j], label = 'exp(-'+ str(x) +')')\n",
    "\n",
    "plt.grid(color='g', ls = '-.', lw = 0.5)\n",
    "plt.xlabel('No. of terms in taylor expansion')\n",
    "plt.ylabel('Error')\n",
    "plt.title('Error vs no. of terms curve')\n",
    "plt.legend()\n",
    "plt.show()\n"
   ]
  },
  {
   "cell_type": "code",
   "execution_count": 71,
   "id": "75f4d418",
   "metadata": {},
   "outputs": [
    {
     "name": "stdout",
     "output_type": "stream",
     "text": [
      "Enter argument for sine function : 3.5\n",
      "\n",
      "sin(3.5) = -0.3507830540486009\n"
     ]
    }
   ],
   "source": [
    "# 4(b): Sine function\n",
    "\n",
    "%run MyLib.ipynb # Running my library \n",
    "                    \n",
    "x=input(\"Enter argument for sine function : \") # taking input\n",
    "\n",
    "x=check_number(x) # Checking for validity\n",
    "\n",
    "if int(x)!=False:\n",
    "    eps=10**-6\n",
    "    i=1\n",
    "\n",
    "    #the loop will run till the value doesn't match with the actual value\n",
    "    #of sin(x) and stops as it matches till the desired decimal places\n",
    "    \n",
    "    while abs(Sin(x,i)-math.sin(x))>eps:\n",
    "        i+=1\n",
    "    print(\"\\nsin(\" + str(x) + \") = \" + str(Sin(x,i)))"
   ]
  },
  {
   "cell_type": "code",
   "execution_count": 70,
   "id": "f5ce35ed",
   "metadata": {},
   "outputs": [
    {
     "name": "stdout",
     "output_type": "stream",
     "text": [
      "Enter argument for sine function : 5.3\n",
      "\n",
      "sin(5.3) = -0.8322675214965258\n"
     ]
    }
   ],
   "source": [
    "\n",
    "\n",
    "%run MyLib.ipynb # Running my library \n",
    "                    \n",
    "x=input(\"Enter argument for sine function : \") # taking input\n",
    "\n",
    "x=check_number(x) # Checking for validity\n",
    "\n",
    "if int(x)!=False:\n",
    "    eps=10**-6\n",
    "    i=1\n",
    "\n",
    "    #the loop will run till the value doesn't match with the actual value\n",
    "    #of sin(x) and stops as it matches till the desired decimal places\n",
    "    \n",
    "    while abs(Sin(x,i)-math.sin(x))>eps:\n",
    "        i+=1\n",
    "    print(\"\\nsin(\" + str(x) + \") = \" + str(Sin(x,i)))"
   ]
  },
  {
   "cell_type": "code",
   "execution_count": 81,
   "id": "ccf65f41",
   "metadata": {},
   "outputs": [
    {
     "name": "stdout",
     "output_type": "stream",
     "text": [
      "Enter argument for sine function : 1.5\n",
      "\n",
      "sin(1.5) = 0.9974949556821353\n"
     ]
    }
   ],
   "source": [
    "\n",
    "\n",
    "%run MyLib.ipynb # Running my library \n",
    "                    \n",
    "x=input(\"Enter argument for sine function : \") # taking input\n",
    "\n",
    "x=check_number(x) # Checking for validity\n",
    "\n",
    "if int(x)!=False:\n",
    "    eps=10**-6\n",
    "    i=1\n",
    "\n",
    "    #the loop will run till the value doesn't match with the actual value\n",
    "    #of sin(x) and stops as it matches till the desired decimal places\n",
    "    \n",
    "    while abs(Sin(x,i)-math.sin(x))>eps:\n",
    "        i+=1\n",
    "    print(\"\\nsin(\" + str(x) + \") = \" + str(Sin(x,i)))"
   ]
  },
  {
   "cell_type": "code",
   "execution_count": 69,
   "id": "5aa57cdd",
   "metadata": {},
   "outputs": [
    {
     "name": "stdout",
     "output_type": "stream",
     "text": [
      "Enter argument for sine function : -1\n",
      "\n",
      "sin(-1.0) = -0.8414710097001764\n"
     ]
    }
   ],
   "source": [
    "\n",
    "\n",
    "%run MyLib.ipynb # Running my library \n",
    "                    \n",
    "x=input(\"Enter argument for sine function : \") # taking input\n",
    "\n",
    "x=check_number(x) # Checking for validity\n",
    "\n",
    "if int(x)!=False:\n",
    "    eps=10**-6\n",
    "    i=1\n",
    "\n",
    "    #the loop will run till the value doesn't match with the actual value\n",
    "    #of sin(x) and stops as it matches till the desired decimal places\n",
    "    \n",
    "    while abs(Sin(x,i)-math.sin(x))>eps:\n",
    "        i+=1\n",
    "    print(\"\\nsin(\" + str(x) + \") = \" + str(Sin(x,i)))"
   ]
  },
  {
   "cell_type": "code",
   "execution_count": 73,
   "id": "245e979c",
   "metadata": {},
   "outputs": [
    {
     "name": "stdout",
     "output_type": "stream",
     "text": [
      "Enter argument for sine function : 1\n",
      "\n",
      "sin(1.0) = 0.8414710097001764\n"
     ]
    }
   ],
   "source": [
    "\n",
    "\n",
    "%run MyLib.ipynb # Running my library \n",
    "                    \n",
    "x=input(\"Enter argument for sine function : \") # taking input\n",
    "\n",
    "x=check_number(x) # Checking for validity\n",
    "\n",
    "if int(x)!=False:\n",
    "    eps=10**-6\n",
    "    i=1\n",
    "\n",
    "    #the loop will run till the value doesn't match with the actual value\n",
    "    #of sin(x) and stops as it matches till the desired decimal places\n",
    "    \n",
    "    while abs(Sin(x,i)-math.sin(x))>eps:\n",
    "        i+=1\n",
    "    print(\"\\nsin(\" + str(x) + \") = \" + str(Sin(x,i)))"
   ]
  },
  {
   "cell_type": "code",
   "execution_count": 3,
   "id": "b9d56e94",
   "metadata": {},
   "outputs": [
    {
     "data": {
      "image/png": "[encoded data removed]",
      "text/plain": [
       "<Figure size 648x432 with 1 Axes>"
      ]
     },
     "metadata": {
      "needs_background": "light"
     },
     "output_type": "display_data"
    }
   ],
   "source": [
    "# 4(b): Plotting of error of Sine function versus number of iterations in the taylor series\n",
    "\n",
    "%run MyLib.ipynb # Running my library \n",
    "                        \n",
    "\n",
    "import math\n",
    "import matplotlib.pyplot as plt\n",
    "plt.figure(figsize=(9,6))\n",
    "\n",
    "e = 10**-6 # decimal places till which accuracy is needed. 2 decimal places are increased \n",
    "\n",
    "color = ['b-o', 'r-o', 'g-o', 'k-o', 'y-o'] # array of colors for plotting\n",
    "\n",
    "argument = [1, 1.7, 2.7, 3.1416, 4] # array of arguments given for comparison\n",
    "\n",
    "for j in range(len(argument)):\n",
    "    # creating arrays to store indices and errors\n",
    "    index = [] \n",
    "    error = []\n",
    "    \n",
    "    x = argument[j] # argument if sine function\n",
    "    i = 1\n",
    "    \n",
    "    # the loop will run till the value doesn't match with\n",
    "    # the actual value of sin(x) and stops as it matches\n",
    "    # till the desired decimal places\n",
    "    while abs(Sin(x,i)-math.sin(x)) > e:\n",
    "        index.append(i)\n",
    "        error.append(abs(Sin(x,i)-math.sin(x)))\n",
    "        i+=1\n",
    "    plt.plot(index, error, color[j], label = 'exp(-'+ str(x) +')')\n",
    "plt.grid(color='g', ls = '-.', lw = 0.5)\n",
    "plt.xlabel('No. of terms in taylor expansion')\n",
    "plt.ylabel('Error')\n",
    "plt.title('Error vs no. of terms curve')\n",
    "plt.legend()\n",
    "plt.show()"
   ]
  },
  {
   "cell_type": "code",
   "execution_count": null,
   "id": "02379011",
   "metadata": {},
   "outputs": [],
   "source": []
  }
 ],
 "metadata": {
  "kernelspec": {
   "display_name": "Python 3",
   "language": "python",
   "name": "python3"
  },
  "language_info": {
   "codemirror_mode": {
    "name": "ipython",
    "version": 3
   },
   "file_extension": ".py",
   "mimetype": "text/x-python",
   "name": "python",
   "nbconvert_exporter": "python",
   "pygments_lexer": "ipython3",
   "version": "3.8.8"
  }
 },
 "nbformat": 4,
 "nbformat_minor": 5
}
